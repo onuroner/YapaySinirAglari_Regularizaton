{
  "nbformat": 4,
  "nbformat_minor": 0,
  "metadata": {
    "colab": {
      "provenance": []
    },
    "kernelspec": {
      "name": "python3",
      "display_name": "Python 3"
    },
    "language_info": {
      "name": "python"
    },
    "gpuClass": "standard"
  },
  "cells": [
    {
      "cell_type": "code",
      "execution_count": 1,
      "metadata": {
        "id": "s2bOM7WVL7yq"
      },
      "outputs": [],
      "source": [
        "import numpy as np\n",
        "import pandas as pd\n",
        "import matplotlib.pyplot as plt\n",
        "import torch\n",
        "import torch.nn as nn"
      ]
    },
    {
      "cell_type": "code",
      "source": [
        "device = \"cuda\" if torch.cuda.is_available() else \"cpu\""
      ],
      "metadata": {
        "id": "bZ-BNtwcIY79"
      },
      "execution_count": 29,
      "outputs": []
    },
    {
      "cell_type": "code",
      "source": [
        "torch.manual_seed(190401095)"
      ],
      "metadata": {
        "colab": {
          "base_uri": "https://localhost:8080/"
        },
        "id": "s9IfjAH5y62_",
        "outputId": "d4c357d2-c61e-4958-ad9d-ae1c41073494"
      },
      "execution_count": 2,
      "outputs": [
        {
          "output_type": "execute_result",
          "data": {
            "text/plain": [
              "<torch._C.Generator at 0x7effe4b93850>"
            ]
          },
          "metadata": {},
          "execution_count": 2
        }
      ]
    },
    {
      "cell_type": "markdown",
      "source": [
        "# 1. Veri Yükleme ve Veriyi Keşfetme"
      ],
      "metadata": {
        "id": "FXze3BYhMsuc"
      }
    },
    {
      "cell_type": "code",
      "source": [
        "train_dataset = pd.read_csv(\"/content/cure_the_princess_train.csv\")\n",
        "val_dataset = pd.read_csv(\"/content/cure_the_princess_validation.csv\")\n",
        "test_dataset = pd.read_csv(\"/content/cure_the_princess_test.csv\")"
      ],
      "metadata": {
        "id": "BWWHnBKHMx8O"
      },
      "execution_count": 3,
      "outputs": []
    },
    {
      "cell_type": "code",
      "source": [
        "train_dataset.head()"
      ],
      "metadata": {
        "colab": {
          "base_uri": "https://localhost:8080/",
          "height": 267
        },
        "id": "x5vCIr-UP_ie",
        "outputId": "d3320f10-110d-4231-d7c6-8b61c304452a"
      },
      "execution_count": 4,
      "outputs": [
        {
          "output_type": "execute_result",
          "data": {
            "text/plain": [
              "   Phoenix Feather  Unicorn Horn  Dragon's Blood  Mermaid Tears  Fairy Dust  \\\n",
              "0             18.8           1.5            19.7            1.1        19.5   \n",
              "1              6.0           3.8            12.4           16.9        13.0   \n",
              "2             22.4           7.9            28.6           11.2         5.4   \n",
              "3             10.8           4.6             5.1           16.7        20.8   \n",
              "4              3.7           5.7             9.0            3.3        17.4   \n",
              "\n",
              "   Goblin Toes  Witch's Brew  Griffin Claw  Troll Hair  Kraken Ink  \\\n",
              "0         30.1          16.5           9.9        27.3         1.8   \n",
              "1         12.6          17.0          25.4         7.7        14.6   \n",
              "2          9.3          11.5          10.7         9.4        11.1   \n",
              "3         27.1           7.8          15.5        34.0         7.6   \n",
              "4         33.3           7.6          20.1        11.5         6.1   \n",
              "\n",
              "   Minotaur Horn  Basilisk Scale  Chimera Fang  Cured  \n",
              "0           18.9            25.3           2.0      1  \n",
              "1            3.8            23.7          17.9      0  \n",
              "2           21.4            29.1           7.5      0  \n",
              "3           16.5            27.3           3.2      1  \n",
              "4            5.2             6.1           1.9      0  "
            ],
            "text/html": [
              "\n",
              "  <div id=\"df-70b04404-d17d-458a-b9fe-800f6171fb15\">\n",
              "    <div class=\"colab-df-container\">\n",
              "      <div>\n",
              "<style scoped>\n",
              "    .dataframe tbody tr th:only-of-type {\n",
              "        vertical-align: middle;\n",
              "    }\n",
              "\n",
              "    .dataframe tbody tr th {\n",
              "        vertical-align: top;\n",
              "    }\n",
              "\n",
              "    .dataframe thead th {\n",
              "        text-align: right;\n",
              "    }\n",
              "</style>\n",
              "<table border=\"1\" class=\"dataframe\">\n",
              "  <thead>\n",
              "    <tr style=\"text-align: right;\">\n",
              "      <th></th>\n",
              "      <th>Phoenix Feather</th>\n",
              "      <th>Unicorn Horn</th>\n",
              "      <th>Dragon's Blood</th>\n",
              "      <th>Mermaid Tears</th>\n",
              "      <th>Fairy Dust</th>\n",
              "      <th>Goblin Toes</th>\n",
              "      <th>Witch's Brew</th>\n",
              "      <th>Griffin Claw</th>\n",
              "      <th>Troll Hair</th>\n",
              "      <th>Kraken Ink</th>\n",
              "      <th>Minotaur Horn</th>\n",
              "      <th>Basilisk Scale</th>\n",
              "      <th>Chimera Fang</th>\n",
              "      <th>Cured</th>\n",
              "    </tr>\n",
              "  </thead>\n",
              "  <tbody>\n",
              "    <tr>\n",
              "      <th>0</th>\n",
              "      <td>18.8</td>\n",
              "      <td>1.5</td>\n",
              "      <td>19.7</td>\n",
              "      <td>1.1</td>\n",
              "      <td>19.5</td>\n",
              "      <td>30.1</td>\n",
              "      <td>16.5</td>\n",
              "      <td>9.9</td>\n",
              "      <td>27.3</td>\n",
              "      <td>1.8</td>\n",
              "      <td>18.9</td>\n",
              "      <td>25.3</td>\n",
              "      <td>2.0</td>\n",
              "      <td>1</td>\n",
              "    </tr>\n",
              "    <tr>\n",
              "      <th>1</th>\n",
              "      <td>6.0</td>\n",
              "      <td>3.8</td>\n",
              "      <td>12.4</td>\n",
              "      <td>16.9</td>\n",
              "      <td>13.0</td>\n",
              "      <td>12.6</td>\n",
              "      <td>17.0</td>\n",
              "      <td>25.4</td>\n",
              "      <td>7.7</td>\n",
              "      <td>14.6</td>\n",
              "      <td>3.8</td>\n",
              "      <td>23.7</td>\n",
              "      <td>17.9</td>\n",
              "      <td>0</td>\n",
              "    </tr>\n",
              "    <tr>\n",
              "      <th>2</th>\n",
              "      <td>22.4</td>\n",
              "      <td>7.9</td>\n",
              "      <td>28.6</td>\n",
              "      <td>11.2</td>\n",
              "      <td>5.4</td>\n",
              "      <td>9.3</td>\n",
              "      <td>11.5</td>\n",
              "      <td>10.7</td>\n",
              "      <td>9.4</td>\n",
              "      <td>11.1</td>\n",
              "      <td>21.4</td>\n",
              "      <td>29.1</td>\n",
              "      <td>7.5</td>\n",
              "      <td>0</td>\n",
              "    </tr>\n",
              "    <tr>\n",
              "      <th>3</th>\n",
              "      <td>10.8</td>\n",
              "      <td>4.6</td>\n",
              "      <td>5.1</td>\n",
              "      <td>16.7</td>\n",
              "      <td>20.8</td>\n",
              "      <td>27.1</td>\n",
              "      <td>7.8</td>\n",
              "      <td>15.5</td>\n",
              "      <td>34.0</td>\n",
              "      <td>7.6</td>\n",
              "      <td>16.5</td>\n",
              "      <td>27.3</td>\n",
              "      <td>3.2</td>\n",
              "      <td>1</td>\n",
              "    </tr>\n",
              "    <tr>\n",
              "      <th>4</th>\n",
              "      <td>3.7</td>\n",
              "      <td>5.7</td>\n",
              "      <td>9.0</td>\n",
              "      <td>3.3</td>\n",
              "      <td>17.4</td>\n",
              "      <td>33.3</td>\n",
              "      <td>7.6</td>\n",
              "      <td>20.1</td>\n",
              "      <td>11.5</td>\n",
              "      <td>6.1</td>\n",
              "      <td>5.2</td>\n",
              "      <td>6.1</td>\n",
              "      <td>1.9</td>\n",
              "      <td>0</td>\n",
              "    </tr>\n",
              "  </tbody>\n",
              "</table>\n",
              "</div>\n",
              "      <button class=\"colab-df-convert\" onclick=\"convertToInteractive('df-70b04404-d17d-458a-b9fe-800f6171fb15')\"\n",
              "              title=\"Convert this dataframe to an interactive table.\"\n",
              "              style=\"display:none;\">\n",
              "        \n",
              "  <svg xmlns=\"http://www.w3.org/2000/svg\" height=\"24px\"viewBox=\"0 0 24 24\"\n",
              "       width=\"24px\">\n",
              "    <path d=\"M0 0h24v24H0V0z\" fill=\"none\"/>\n",
              "    <path d=\"M18.56 5.44l.94 2.06.94-2.06 2.06-.94-2.06-.94-.94-2.06-.94 2.06-2.06.94zm-11 1L8.5 8.5l.94-2.06 2.06-.94-2.06-.94L8.5 2.5l-.94 2.06-2.06.94zm10 10l.94 2.06.94-2.06 2.06-.94-2.06-.94-.94-2.06-.94 2.06-2.06.94z\"/><path d=\"M17.41 7.96l-1.37-1.37c-.4-.4-.92-.59-1.43-.59-.52 0-1.04.2-1.43.59L10.3 9.45l-7.72 7.72c-.78.78-.78 2.05 0 2.83L4 21.41c.39.39.9.59 1.41.59.51 0 1.02-.2 1.41-.59l7.78-7.78 2.81-2.81c.8-.78.8-2.07 0-2.86zM5.41 20L4 18.59l7.72-7.72 1.47 1.35L5.41 20z\"/>\n",
              "  </svg>\n",
              "      </button>\n",
              "      \n",
              "  <style>\n",
              "    .colab-df-container {\n",
              "      display:flex;\n",
              "      flex-wrap:wrap;\n",
              "      gap: 12px;\n",
              "    }\n",
              "\n",
              "    .colab-df-convert {\n",
              "      background-color: #E8F0FE;\n",
              "      border: none;\n",
              "      border-radius: 50%;\n",
              "      cursor: pointer;\n",
              "      display: none;\n",
              "      fill: #1967D2;\n",
              "      height: 32px;\n",
              "      padding: 0 0 0 0;\n",
              "      width: 32px;\n",
              "    }\n",
              "\n",
              "    .colab-df-convert:hover {\n",
              "      background-color: #E2EBFA;\n",
              "      box-shadow: 0px 1px 2px rgba(60, 64, 67, 0.3), 0px 1px 3px 1px rgba(60, 64, 67, 0.15);\n",
              "      fill: #174EA6;\n",
              "    }\n",
              "\n",
              "    [theme=dark] .colab-df-convert {\n",
              "      background-color: #3B4455;\n",
              "      fill: #D2E3FC;\n",
              "    }\n",
              "\n",
              "    [theme=dark] .colab-df-convert:hover {\n",
              "      background-color: #434B5C;\n",
              "      box-shadow: 0px 1px 3px 1px rgba(0, 0, 0, 0.15);\n",
              "      filter: drop-shadow(0px 1px 2px rgba(0, 0, 0, 0.3));\n",
              "      fill: #FFFFFF;\n",
              "    }\n",
              "  </style>\n",
              "\n",
              "      <script>\n",
              "        const buttonEl =\n",
              "          document.querySelector('#df-70b04404-d17d-458a-b9fe-800f6171fb15 button.colab-df-convert');\n",
              "        buttonEl.style.display =\n",
              "          google.colab.kernel.accessAllowed ? 'block' : 'none';\n",
              "\n",
              "        async function convertToInteractive(key) {\n",
              "          const element = document.querySelector('#df-70b04404-d17d-458a-b9fe-800f6171fb15');\n",
              "          const dataTable =\n",
              "            await google.colab.kernel.invokeFunction('convertToInteractive',\n",
              "                                                     [key], {});\n",
              "          if (!dataTable) return;\n",
              "\n",
              "          const docLinkHtml = 'Like what you see? Visit the ' +\n",
              "            '<a target=\"_blank\" href=https://colab.research.google.com/notebooks/data_table.ipynb>data table notebook</a>'\n",
              "            + ' to learn more about interactive tables.';\n",
              "          element.innerHTML = '';\n",
              "          dataTable['output_type'] = 'display_data';\n",
              "          await google.colab.output.renderOutput(dataTable, element);\n",
              "          const docLink = document.createElement('div');\n",
              "          docLink.innerHTML = docLinkHtml;\n",
              "          element.appendChild(docLink);\n",
              "        }\n",
              "      </script>\n",
              "    </div>\n",
              "  </div>\n",
              "  "
            ]
          },
          "metadata": {},
          "execution_count": 4
        }
      ]
    },
    {
      "cell_type": "code",
      "source": [
        "train_dataset[\"Cured\"].value_counts()"
      ],
      "metadata": {
        "colab": {
          "base_uri": "https://localhost:8080/"
        },
        "id": "Rt59bepcQGSk",
        "outputId": "0e6c8ee8-14ed-42aa-d1f3-602afa5bb2cd"
      },
      "execution_count": 5,
      "outputs": [
        {
          "output_type": "execute_result",
          "data": {
            "text/plain": [
              "0    635\n",
              "1    617\n",
              "Name: Cured, dtype: int64"
            ]
          },
          "metadata": {},
          "execution_count": 5
        }
      ]
    },
    {
      "cell_type": "markdown",
      "source": [
        "Toplamda 2 adet sınıfımız var. Modelimiz sonuç olarak tek bir kategori tahmininde bulunacağından output layerda tek bir nöron olacak."
      ],
      "metadata": {
        "id": "Oi2gtjFiQR7C"
      }
    },
    {
      "cell_type": "code",
      "source": [
        "train_dataset.info()"
      ],
      "metadata": {
        "id": "REOzOUJYQQyj",
        "colab": {
          "base_uri": "https://localhost:8080/"
        },
        "outputId": "77d34c2b-4585-441d-b6b0-9c49be5d50af"
      },
      "execution_count": 6,
      "outputs": [
        {
          "output_type": "stream",
          "name": "stdout",
          "text": [
            "<class 'pandas.core.frame.DataFrame'>\n",
            "RangeIndex: 1252 entries, 0 to 1251\n",
            "Data columns (total 14 columns):\n",
            " #   Column           Non-Null Count  Dtype  \n",
            "---  ------           --------------  -----  \n",
            " 0   Phoenix Feather  1252 non-null   float64\n",
            " 1   Unicorn Horn     1252 non-null   float64\n",
            " 2   Dragon's Blood   1252 non-null   float64\n",
            " 3   Mermaid Tears    1252 non-null   float64\n",
            " 4   Fairy Dust       1252 non-null   float64\n",
            " 5   Goblin Toes      1252 non-null   float64\n",
            " 6   Witch's Brew     1252 non-null   float64\n",
            " 7   Griffin Claw     1252 non-null   float64\n",
            " 8   Troll Hair       1252 non-null   float64\n",
            " 9   Kraken Ink       1252 non-null   float64\n",
            " 10  Minotaur Horn    1252 non-null   float64\n",
            " 11  Basilisk Scale   1252 non-null   float64\n",
            " 12  Chimera Fang     1252 non-null   float64\n",
            " 13  Cured            1252 non-null   int64  \n",
            "dtypes: float64(13), int64(1)\n",
            "memory usage: 137.1 KB\n"
          ]
        }
      ]
    },
    {
      "cell_type": "code",
      "source": [
        "val_dataset.info()"
      ],
      "metadata": {
        "colab": {
          "base_uri": "https://localhost:8080/"
        },
        "id": "XdOG45UiF86t",
        "outputId": "b4502b5e-936a-48be-b89a-3948d97c27bd"
      },
      "execution_count": 7,
      "outputs": [
        {
          "output_type": "stream",
          "name": "stdout",
          "text": [
            "<class 'pandas.core.frame.DataFrame'>\n",
            "RangeIndex: 314 entries, 0 to 313\n",
            "Data columns (total 14 columns):\n",
            " #   Column           Non-Null Count  Dtype  \n",
            "---  ------           --------------  -----  \n",
            " 0   Phoenix Feather  314 non-null    float64\n",
            " 1   Unicorn Horn     314 non-null    float64\n",
            " 2   Dragon's Blood   314 non-null    float64\n",
            " 3   Mermaid Tears    314 non-null    float64\n",
            " 4   Fairy Dust       314 non-null    float64\n",
            " 5   Goblin Toes      314 non-null    float64\n",
            " 6   Witch's Brew     314 non-null    float64\n",
            " 7   Griffin Claw     314 non-null    float64\n",
            " 8   Troll Hair       314 non-null    float64\n",
            " 9   Kraken Ink       314 non-null    float64\n",
            " 10  Minotaur Horn    314 non-null    float64\n",
            " 11  Basilisk Scale   314 non-null    float64\n",
            " 12  Chimera Fang     314 non-null    float64\n",
            " 13  Cured            314 non-null    int64  \n",
            "dtypes: float64(13), int64(1)\n",
            "memory usage: 34.5 KB\n"
          ]
        }
      ]
    },
    {
      "cell_type": "code",
      "source": [
        "test_dataset.info()"
      ],
      "metadata": {
        "colab": {
          "base_uri": "https://localhost:8080/"
        },
        "id": "8M8EB9lMGEOh",
        "outputId": "6f39647d-ff03-447e-f013-84b8ad8a3127"
      },
      "execution_count": 8,
      "outputs": [
        {
          "output_type": "stream",
          "name": "stdout",
          "text": [
            "<class 'pandas.core.frame.DataFrame'>\n",
            "RangeIndex: 772 entries, 0 to 771\n",
            "Data columns (total 14 columns):\n",
            " #   Column           Non-Null Count  Dtype  \n",
            "---  ------           --------------  -----  \n",
            " 0   Phoenix Feather  772 non-null    float64\n",
            " 1   Unicorn Horn     772 non-null    float64\n",
            " 2   Dragon's Blood   772 non-null    float64\n",
            " 3   Mermaid Tears    772 non-null    float64\n",
            " 4   Fairy Dust       772 non-null    float64\n",
            " 5   Goblin Toes      772 non-null    float64\n",
            " 6   Witch's Brew     772 non-null    float64\n",
            " 7   Griffin Claw     772 non-null    float64\n",
            " 8   Troll Hair       772 non-null    float64\n",
            " 9   Kraken Ink       772 non-null    float64\n",
            " 10  Minotaur Horn    772 non-null    float64\n",
            " 11  Basilisk Scale   772 non-null    float64\n",
            " 12  Chimera Fang     772 non-null    float64\n",
            " 13  Cured            772 non-null    int64  \n",
            "dtypes: float64(13), int64(1)\n",
            "memory usage: 84.6 KB\n"
          ]
        }
      ]
    },
    {
      "cell_type": "markdown",
      "source": [
        "Model eğitiminde train_dataset içerisinde yer alan verileri kullanacağız. Buradaki verileri girdiler ve çıktılar olarak bölmemiz gerekiyor."
      ],
      "metadata": {
        "id": "pIF0jBxAjkSv"
      }
    },
    {
      "cell_type": "code",
      "source": [
        "train_inputs = train_dataset.iloc[:,:-1]\n",
        "train_inputs.head()"
      ],
      "metadata": {
        "colab": {
          "base_uri": "https://localhost:8080/",
          "height": 267
        },
        "id": "Ge8t2h14i9Sf",
        "outputId": "841a19d9-21aa-47a9-8ffb-b614cbcbbaed"
      },
      "execution_count": 9,
      "outputs": [
        {
          "output_type": "execute_result",
          "data": {
            "text/plain": [
              "   Phoenix Feather  Unicorn Horn  Dragon's Blood  Mermaid Tears  Fairy Dust  \\\n",
              "0             18.8           1.5            19.7            1.1        19.5   \n",
              "1              6.0           3.8            12.4           16.9        13.0   \n",
              "2             22.4           7.9            28.6           11.2         5.4   \n",
              "3             10.8           4.6             5.1           16.7        20.8   \n",
              "4              3.7           5.7             9.0            3.3        17.4   \n",
              "\n",
              "   Goblin Toes  Witch's Brew  Griffin Claw  Troll Hair  Kraken Ink  \\\n",
              "0         30.1          16.5           9.9        27.3         1.8   \n",
              "1         12.6          17.0          25.4         7.7        14.6   \n",
              "2          9.3          11.5          10.7         9.4        11.1   \n",
              "3         27.1           7.8          15.5        34.0         7.6   \n",
              "4         33.3           7.6          20.1        11.5         6.1   \n",
              "\n",
              "   Minotaur Horn  Basilisk Scale  Chimera Fang  \n",
              "0           18.9            25.3           2.0  \n",
              "1            3.8            23.7          17.9  \n",
              "2           21.4            29.1           7.5  \n",
              "3           16.5            27.3           3.2  \n",
              "4            5.2             6.1           1.9  "
            ],
            "text/html": [
              "\n",
              "  <div id=\"df-91442a20-58f4-4602-b773-87246fd0f06e\">\n",
              "    <div class=\"colab-df-container\">\n",
              "      <div>\n",
              "<style scoped>\n",
              "    .dataframe tbody tr th:only-of-type {\n",
              "        vertical-align: middle;\n",
              "    }\n",
              "\n",
              "    .dataframe tbody tr th {\n",
              "        vertical-align: top;\n",
              "    }\n",
              "\n",
              "    .dataframe thead th {\n",
              "        text-align: right;\n",
              "    }\n",
              "</style>\n",
              "<table border=\"1\" class=\"dataframe\">\n",
              "  <thead>\n",
              "    <tr style=\"text-align: right;\">\n",
              "      <th></th>\n",
              "      <th>Phoenix Feather</th>\n",
              "      <th>Unicorn Horn</th>\n",
              "      <th>Dragon's Blood</th>\n",
              "      <th>Mermaid Tears</th>\n",
              "      <th>Fairy Dust</th>\n",
              "      <th>Goblin Toes</th>\n",
              "      <th>Witch's Brew</th>\n",
              "      <th>Griffin Claw</th>\n",
              "      <th>Troll Hair</th>\n",
              "      <th>Kraken Ink</th>\n",
              "      <th>Minotaur Horn</th>\n",
              "      <th>Basilisk Scale</th>\n",
              "      <th>Chimera Fang</th>\n",
              "    </tr>\n",
              "  </thead>\n",
              "  <tbody>\n",
              "    <tr>\n",
              "      <th>0</th>\n",
              "      <td>18.8</td>\n",
              "      <td>1.5</td>\n",
              "      <td>19.7</td>\n",
              "      <td>1.1</td>\n",
              "      <td>19.5</td>\n",
              "      <td>30.1</td>\n",
              "      <td>16.5</td>\n",
              "      <td>9.9</td>\n",
              "      <td>27.3</td>\n",
              "      <td>1.8</td>\n",
              "      <td>18.9</td>\n",
              "      <td>25.3</td>\n",
              "      <td>2.0</td>\n",
              "    </tr>\n",
              "    <tr>\n",
              "      <th>1</th>\n",
              "      <td>6.0</td>\n",
              "      <td>3.8</td>\n",
              "      <td>12.4</td>\n",
              "      <td>16.9</td>\n",
              "      <td>13.0</td>\n",
              "      <td>12.6</td>\n",
              "      <td>17.0</td>\n",
              "      <td>25.4</td>\n",
              "      <td>7.7</td>\n",
              "      <td>14.6</td>\n",
              "      <td>3.8</td>\n",
              "      <td>23.7</td>\n",
              "      <td>17.9</td>\n",
              "    </tr>\n",
              "    <tr>\n",
              "      <th>2</th>\n",
              "      <td>22.4</td>\n",
              "      <td>7.9</td>\n",
              "      <td>28.6</td>\n",
              "      <td>11.2</td>\n",
              "      <td>5.4</td>\n",
              "      <td>9.3</td>\n",
              "      <td>11.5</td>\n",
              "      <td>10.7</td>\n",
              "      <td>9.4</td>\n",
              "      <td>11.1</td>\n",
              "      <td>21.4</td>\n",
              "      <td>29.1</td>\n",
              "      <td>7.5</td>\n",
              "    </tr>\n",
              "    <tr>\n",
              "      <th>3</th>\n",
              "      <td>10.8</td>\n",
              "      <td>4.6</td>\n",
              "      <td>5.1</td>\n",
              "      <td>16.7</td>\n",
              "      <td>20.8</td>\n",
              "      <td>27.1</td>\n",
              "      <td>7.8</td>\n",
              "      <td>15.5</td>\n",
              "      <td>34.0</td>\n",
              "      <td>7.6</td>\n",
              "      <td>16.5</td>\n",
              "      <td>27.3</td>\n",
              "      <td>3.2</td>\n",
              "    </tr>\n",
              "    <tr>\n",
              "      <th>4</th>\n",
              "      <td>3.7</td>\n",
              "      <td>5.7</td>\n",
              "      <td>9.0</td>\n",
              "      <td>3.3</td>\n",
              "      <td>17.4</td>\n",
              "      <td>33.3</td>\n",
              "      <td>7.6</td>\n",
              "      <td>20.1</td>\n",
              "      <td>11.5</td>\n",
              "      <td>6.1</td>\n",
              "      <td>5.2</td>\n",
              "      <td>6.1</td>\n",
              "      <td>1.9</td>\n",
              "    </tr>\n",
              "  </tbody>\n",
              "</table>\n",
              "</div>\n",
              "      <button class=\"colab-df-convert\" onclick=\"convertToInteractive('df-91442a20-58f4-4602-b773-87246fd0f06e')\"\n",
              "              title=\"Convert this dataframe to an interactive table.\"\n",
              "              style=\"display:none;\">\n",
              "        \n",
              "  <svg xmlns=\"http://www.w3.org/2000/svg\" height=\"24px\"viewBox=\"0 0 24 24\"\n",
              "       width=\"24px\">\n",
              "    <path d=\"M0 0h24v24H0V0z\" fill=\"none\"/>\n",
              "    <path d=\"M18.56 5.44l.94 2.06.94-2.06 2.06-.94-2.06-.94-.94-2.06-.94 2.06-2.06.94zm-11 1L8.5 8.5l.94-2.06 2.06-.94-2.06-.94L8.5 2.5l-.94 2.06-2.06.94zm10 10l.94 2.06.94-2.06 2.06-.94-2.06-.94-.94-2.06-.94 2.06-2.06.94z\"/><path d=\"M17.41 7.96l-1.37-1.37c-.4-.4-.92-.59-1.43-.59-.52 0-1.04.2-1.43.59L10.3 9.45l-7.72 7.72c-.78.78-.78 2.05 0 2.83L4 21.41c.39.39.9.59 1.41.59.51 0 1.02-.2 1.41-.59l7.78-7.78 2.81-2.81c.8-.78.8-2.07 0-2.86zM5.41 20L4 18.59l7.72-7.72 1.47 1.35L5.41 20z\"/>\n",
              "  </svg>\n",
              "      </button>\n",
              "      \n",
              "  <style>\n",
              "    .colab-df-container {\n",
              "      display:flex;\n",
              "      flex-wrap:wrap;\n",
              "      gap: 12px;\n",
              "    }\n",
              "\n",
              "    .colab-df-convert {\n",
              "      background-color: #E8F0FE;\n",
              "      border: none;\n",
              "      border-radius: 50%;\n",
              "      cursor: pointer;\n",
              "      display: none;\n",
              "      fill: #1967D2;\n",
              "      height: 32px;\n",
              "      padding: 0 0 0 0;\n",
              "      width: 32px;\n",
              "    }\n",
              "\n",
              "    .colab-df-convert:hover {\n",
              "      background-color: #E2EBFA;\n",
              "      box-shadow: 0px 1px 2px rgba(60, 64, 67, 0.3), 0px 1px 3px 1px rgba(60, 64, 67, 0.15);\n",
              "      fill: #174EA6;\n",
              "    }\n",
              "\n",
              "    [theme=dark] .colab-df-convert {\n",
              "      background-color: #3B4455;\n",
              "      fill: #D2E3FC;\n",
              "    }\n",
              "\n",
              "    [theme=dark] .colab-df-convert:hover {\n",
              "      background-color: #434B5C;\n",
              "      box-shadow: 0px 1px 3px 1px rgba(0, 0, 0, 0.15);\n",
              "      filter: drop-shadow(0px 1px 2px rgba(0, 0, 0, 0.3));\n",
              "      fill: #FFFFFF;\n",
              "    }\n",
              "  </style>\n",
              "\n",
              "      <script>\n",
              "        const buttonEl =\n",
              "          document.querySelector('#df-91442a20-58f4-4602-b773-87246fd0f06e button.colab-df-convert');\n",
              "        buttonEl.style.display =\n",
              "          google.colab.kernel.accessAllowed ? 'block' : 'none';\n",
              "\n",
              "        async function convertToInteractive(key) {\n",
              "          const element = document.querySelector('#df-91442a20-58f4-4602-b773-87246fd0f06e');\n",
              "          const dataTable =\n",
              "            await google.colab.kernel.invokeFunction('convertToInteractive',\n",
              "                                                     [key], {});\n",
              "          if (!dataTable) return;\n",
              "\n",
              "          const docLinkHtml = 'Like what you see? Visit the ' +\n",
              "            '<a target=\"_blank\" href=https://colab.research.google.com/notebooks/data_table.ipynb>data table notebook</a>'\n",
              "            + ' to learn more about interactive tables.';\n",
              "          element.innerHTML = '';\n",
              "          dataTable['output_type'] = 'display_data';\n",
              "          await google.colab.output.renderOutput(dataTable, element);\n",
              "          const docLink = document.createElement('div');\n",
              "          docLink.innerHTML = docLinkHtml;\n",
              "          element.appendChild(docLink);\n",
              "        }\n",
              "      </script>\n",
              "    </div>\n",
              "  </div>\n",
              "  "
            ]
          },
          "metadata": {},
          "execution_count": 9
        }
      ]
    },
    {
      "cell_type": "code",
      "source": [
        "train_labels = train_dataset.iloc[:,-1]\n",
        "train_labels"
      ],
      "metadata": {
        "colab": {
          "base_uri": "https://localhost:8080/"
        },
        "id": "Dsxk0YkSjydv",
        "outputId": "be907313-4a76-430d-d2fc-d5036101439a"
      },
      "execution_count": 10,
      "outputs": [
        {
          "output_type": "execute_result",
          "data": {
            "text/plain": [
              "0       1\n",
              "1       0\n",
              "2       0\n",
              "3       1\n",
              "4       0\n",
              "       ..\n",
              "1247    1\n",
              "1248    1\n",
              "1249    0\n",
              "1250    1\n",
              "1251    0\n",
              "Name: Cured, Length: 1252, dtype: int64"
            ]
          },
          "metadata": {},
          "execution_count": 10
        }
      ]
    },
    {
      "cell_type": "markdown",
      "source": [
        "**train_inputs** değişkenine girdilerimizi, **train_labels** değişkenine ise girdilere karşılık gelen sonuçları atadık. Şimdi bunları tensöre çevirelim."
      ],
      "metadata": {
        "id": "-pyxyh97kQUh"
      }
    },
    {
      "cell_type": "code",
      "source": [
        "train_inputs = torch.tensor(train_inputs.values, dtype=torch.float32)\n",
        "train_inputs"
      ],
      "metadata": {
        "colab": {
          "base_uri": "https://localhost:8080/"
        },
        "id": "jhbJcd2Wi7xW",
        "outputId": "817c49cf-093c-4533-f121-58f01bdf6d63"
      },
      "execution_count": 11,
      "outputs": [
        {
          "output_type": "execute_result",
          "data": {
            "text/plain": [
              "tensor([[18.8000,  1.5000, 19.7000,  ..., 18.9000, 25.3000,  2.0000],\n",
              "        [ 6.0000,  3.8000, 12.4000,  ...,  3.8000, 23.7000, 17.9000],\n",
              "        [22.4000,  7.9000, 28.6000,  ..., 21.4000, 29.1000,  7.5000],\n",
              "        ...,\n",
              "        [22.4000, 19.6000,  7.4000,  ..., 12.2000, 15.4000,  8.3000],\n",
              "        [22.5000, 12.5000, 24.5000,  ...,  5.5000, 12.7000, 25.9000],\n",
              "        [12.3000, 17.6000, 13.0000,  ...,  4.5000, 11.1000,  6.0000]])"
            ]
          },
          "metadata": {},
          "execution_count": 11
        }
      ]
    },
    {
      "cell_type": "code",
      "source": [
        "train_inputs.size()"
      ],
      "metadata": {
        "colab": {
          "base_uri": "https://localhost:8080/"
        },
        "id": "TiLaq97Boou8",
        "outputId": "31eab34e-9e76-4290-f372-79fa5f021458"
      },
      "execution_count": 12,
      "outputs": [
        {
          "output_type": "execute_result",
          "data": {
            "text/plain": [
              "torch.Size([1252, 13])"
            ]
          },
          "metadata": {},
          "execution_count": 12
        }
      ]
    },
    {
      "cell_type": "code",
      "source": [
        "train_labels = torch.tensor(train_labels.values, dtype=torch.float32)\n",
        "train_labels"
      ],
      "metadata": {
        "colab": {
          "base_uri": "https://localhost:8080/"
        },
        "id": "-hpU2g0mnMt5",
        "outputId": "580cf816-9cf2-43d2-bb9c-ab293dc16337"
      },
      "execution_count": 13,
      "outputs": [
        {
          "output_type": "execute_result",
          "data": {
            "text/plain": [
              "tensor([1., 0., 0.,  ..., 0., 1., 0.])"
            ]
          },
          "metadata": {},
          "execution_count": 13
        }
      ]
    },
    {
      "cell_type": "code",
      "source": [
        "train_labels.size()"
      ],
      "metadata": {
        "colab": {
          "base_uri": "https://localhost:8080/"
        },
        "id": "JHmUybP5m5d5",
        "outputId": "3c2c9171-2068-4b1f-e73f-5a74bdd448ff"
      },
      "execution_count": 14,
      "outputs": [
        {
          "output_type": "execute_result",
          "data": {
            "text/plain": [
              "torch.Size([1252])"
            ]
          },
          "metadata": {},
          "execution_count": 14
        }
      ]
    },
    {
      "cell_type": "markdown",
      "source": [
        "Aynı işlemleri validation ve test setindeki verilerimiz için de yapalım."
      ],
      "metadata": {
        "id": "5BkflgeaH_dL"
      }
    },
    {
      "cell_type": "code",
      "source": [
        "val_inputs = val_dataset.iloc[:,:-1]\n",
        "val_inputs"
      ],
      "metadata": {
        "colab": {
          "base_uri": "https://localhost:8080/",
          "height": 485
        },
        "id": "AFEN99zbIHCD",
        "outputId": "32fcf791-81fc-4dee-fd5e-d6b6da70528a"
      },
      "execution_count": 15,
      "outputs": [
        {
          "output_type": "execute_result",
          "data": {
            "text/plain": [
              "     Phoenix Feather  Unicorn Horn  Dragon's Blood  Mermaid Tears  Fairy Dust  \\\n",
              "0               13.1           7.6            11.6           11.0         4.7   \n",
              "1               24.8          26.4            13.4            3.7         8.8   \n",
              "2                5.8          21.2             6.8           13.2        26.2   \n",
              "3                6.5          13.8            25.5            3.8        12.9   \n",
              "4               22.1          17.4             4.9           20.8        10.8   \n",
              "..               ...           ...             ...            ...         ...   \n",
              "309             19.4          21.1            16.2           10.1        17.7   \n",
              "310              1.2           8.0            20.4            2.0        33.4   \n",
              "311             21.9           5.5            11.5            5.0        27.9   \n",
              "312              4.4          24.4            10.5           24.1        26.3   \n",
              "313             18.3           3.0            10.5           11.0        11.4   \n",
              "\n",
              "     Goblin Toes  Witch's Brew  Griffin Claw  Troll Hair  Kraken Ink  \\\n",
              "0           26.8           6.1           4.5        17.1         8.6   \n",
              "1           37.0           1.7          14.3        30.2         5.1   \n",
              "2           14.5          20.1          26.4         9.0         3.1   \n",
              "3            5.0           1.9          18.7         1.4         9.4   \n",
              "4            9.4           7.3          15.2        33.5        15.2   \n",
              "..           ...           ...           ...         ...         ...   \n",
              "309         13.7          14.8          24.9         5.3        12.2   \n",
              "310         19.6          22.1          10.4        18.9         5.9   \n",
              "311         20.9          20.5          22.7        33.9         7.4   \n",
              "312          6.5          27.1          22.6         9.4        22.1   \n",
              "313          5.3           2.0           5.8        19.5        10.5   \n",
              "\n",
              "     Minotaur Horn  Basilisk Scale  Chimera Fang  \n",
              "0             10.0            13.7          18.6  \n",
              "1              2.0             2.7           5.6  \n",
              "2              6.5            17.9           3.8  \n",
              "3             24.4            22.7          10.7  \n",
              "4             20.0            18.6          14.4  \n",
              "..             ...             ...           ...  \n",
              "309           10.6            14.8          16.3  \n",
              "310           18.2            16.4           8.5  \n",
              "311            3.6            38.4           5.2  \n",
              "312           21.2            25.5           4.0  \n",
              "313            6.3            11.1          14.7  \n",
              "\n",
              "[314 rows x 13 columns]"
            ],
            "text/html": [
              "\n",
              "  <div id=\"df-14a5be15-00c8-4e7c-b183-a8c88ed6ef60\">\n",
              "    <div class=\"colab-df-container\">\n",
              "      <div>\n",
              "<style scoped>\n",
              "    .dataframe tbody tr th:only-of-type {\n",
              "        vertical-align: middle;\n",
              "    }\n",
              "\n",
              "    .dataframe tbody tr th {\n",
              "        vertical-align: top;\n",
              "    }\n",
              "\n",
              "    .dataframe thead th {\n",
              "        text-align: right;\n",
              "    }\n",
              "</style>\n",
              "<table border=\"1\" class=\"dataframe\">\n",
              "  <thead>\n",
              "    <tr style=\"text-align: right;\">\n",
              "      <th></th>\n",
              "      <th>Phoenix Feather</th>\n",
              "      <th>Unicorn Horn</th>\n",
              "      <th>Dragon's Blood</th>\n",
              "      <th>Mermaid Tears</th>\n",
              "      <th>Fairy Dust</th>\n",
              "      <th>Goblin Toes</th>\n",
              "      <th>Witch's Brew</th>\n",
              "      <th>Griffin Claw</th>\n",
              "      <th>Troll Hair</th>\n",
              "      <th>Kraken Ink</th>\n",
              "      <th>Minotaur Horn</th>\n",
              "      <th>Basilisk Scale</th>\n",
              "      <th>Chimera Fang</th>\n",
              "    </tr>\n",
              "  </thead>\n",
              "  <tbody>\n",
              "    <tr>\n",
              "      <th>0</th>\n",
              "      <td>13.1</td>\n",
              "      <td>7.6</td>\n",
              "      <td>11.6</td>\n",
              "      <td>11.0</td>\n",
              "      <td>4.7</td>\n",
              "      <td>26.8</td>\n",
              "      <td>6.1</td>\n",
              "      <td>4.5</td>\n",
              "      <td>17.1</td>\n",
              "      <td>8.6</td>\n",
              "      <td>10.0</td>\n",
              "      <td>13.7</td>\n",
              "      <td>18.6</td>\n",
              "    </tr>\n",
              "    <tr>\n",
              "      <th>1</th>\n",
              "      <td>24.8</td>\n",
              "      <td>26.4</td>\n",
              "      <td>13.4</td>\n",
              "      <td>3.7</td>\n",
              "      <td>8.8</td>\n",
              "      <td>37.0</td>\n",
              "      <td>1.7</td>\n",
              "      <td>14.3</td>\n",
              "      <td>30.2</td>\n",
              "      <td>5.1</td>\n",
              "      <td>2.0</td>\n",
              "      <td>2.7</td>\n",
              "      <td>5.6</td>\n",
              "    </tr>\n",
              "    <tr>\n",
              "      <th>2</th>\n",
              "      <td>5.8</td>\n",
              "      <td>21.2</td>\n",
              "      <td>6.8</td>\n",
              "      <td>13.2</td>\n",
              "      <td>26.2</td>\n",
              "      <td>14.5</td>\n",
              "      <td>20.1</td>\n",
              "      <td>26.4</td>\n",
              "      <td>9.0</td>\n",
              "      <td>3.1</td>\n",
              "      <td>6.5</td>\n",
              "      <td>17.9</td>\n",
              "      <td>3.8</td>\n",
              "    </tr>\n",
              "    <tr>\n",
              "      <th>3</th>\n",
              "      <td>6.5</td>\n",
              "      <td>13.8</td>\n",
              "      <td>25.5</td>\n",
              "      <td>3.8</td>\n",
              "      <td>12.9</td>\n",
              "      <td>5.0</td>\n",
              "      <td>1.9</td>\n",
              "      <td>18.7</td>\n",
              "      <td>1.4</td>\n",
              "      <td>9.4</td>\n",
              "      <td>24.4</td>\n",
              "      <td>22.7</td>\n",
              "      <td>10.7</td>\n",
              "    </tr>\n",
              "    <tr>\n",
              "      <th>4</th>\n",
              "      <td>22.1</td>\n",
              "      <td>17.4</td>\n",
              "      <td>4.9</td>\n",
              "      <td>20.8</td>\n",
              "      <td>10.8</td>\n",
              "      <td>9.4</td>\n",
              "      <td>7.3</td>\n",
              "      <td>15.2</td>\n",
              "      <td>33.5</td>\n",
              "      <td>15.2</td>\n",
              "      <td>20.0</td>\n",
              "      <td>18.6</td>\n",
              "      <td>14.4</td>\n",
              "    </tr>\n",
              "    <tr>\n",
              "      <th>...</th>\n",
              "      <td>...</td>\n",
              "      <td>...</td>\n",
              "      <td>...</td>\n",
              "      <td>...</td>\n",
              "      <td>...</td>\n",
              "      <td>...</td>\n",
              "      <td>...</td>\n",
              "      <td>...</td>\n",
              "      <td>...</td>\n",
              "      <td>...</td>\n",
              "      <td>...</td>\n",
              "      <td>...</td>\n",
              "      <td>...</td>\n",
              "    </tr>\n",
              "    <tr>\n",
              "      <th>309</th>\n",
              "      <td>19.4</td>\n",
              "      <td>21.1</td>\n",
              "      <td>16.2</td>\n",
              "      <td>10.1</td>\n",
              "      <td>17.7</td>\n",
              "      <td>13.7</td>\n",
              "      <td>14.8</td>\n",
              "      <td>24.9</td>\n",
              "      <td>5.3</td>\n",
              "      <td>12.2</td>\n",
              "      <td>10.6</td>\n",
              "      <td>14.8</td>\n",
              "      <td>16.3</td>\n",
              "    </tr>\n",
              "    <tr>\n",
              "      <th>310</th>\n",
              "      <td>1.2</td>\n",
              "      <td>8.0</td>\n",
              "      <td>20.4</td>\n",
              "      <td>2.0</td>\n",
              "      <td>33.4</td>\n",
              "      <td>19.6</td>\n",
              "      <td>22.1</td>\n",
              "      <td>10.4</td>\n",
              "      <td>18.9</td>\n",
              "      <td>5.9</td>\n",
              "      <td>18.2</td>\n",
              "      <td>16.4</td>\n",
              "      <td>8.5</td>\n",
              "    </tr>\n",
              "    <tr>\n",
              "      <th>311</th>\n",
              "      <td>21.9</td>\n",
              "      <td>5.5</td>\n",
              "      <td>11.5</td>\n",
              "      <td>5.0</td>\n",
              "      <td>27.9</td>\n",
              "      <td>20.9</td>\n",
              "      <td>20.5</td>\n",
              "      <td>22.7</td>\n",
              "      <td>33.9</td>\n",
              "      <td>7.4</td>\n",
              "      <td>3.6</td>\n",
              "      <td>38.4</td>\n",
              "      <td>5.2</td>\n",
              "    </tr>\n",
              "    <tr>\n",
              "      <th>312</th>\n",
              "      <td>4.4</td>\n",
              "      <td>24.4</td>\n",
              "      <td>10.5</td>\n",
              "      <td>24.1</td>\n",
              "      <td>26.3</td>\n",
              "      <td>6.5</td>\n",
              "      <td>27.1</td>\n",
              "      <td>22.6</td>\n",
              "      <td>9.4</td>\n",
              "      <td>22.1</td>\n",
              "      <td>21.2</td>\n",
              "      <td>25.5</td>\n",
              "      <td>4.0</td>\n",
              "    </tr>\n",
              "    <tr>\n",
              "      <th>313</th>\n",
              "      <td>18.3</td>\n",
              "      <td>3.0</td>\n",
              "      <td>10.5</td>\n",
              "      <td>11.0</td>\n",
              "      <td>11.4</td>\n",
              "      <td>5.3</td>\n",
              "      <td>2.0</td>\n",
              "      <td>5.8</td>\n",
              "      <td>19.5</td>\n",
              "      <td>10.5</td>\n",
              "      <td>6.3</td>\n",
              "      <td>11.1</td>\n",
              "      <td>14.7</td>\n",
              "    </tr>\n",
              "  </tbody>\n",
              "</table>\n",
              "<p>314 rows × 13 columns</p>\n",
              "</div>\n",
              "      <button class=\"colab-df-convert\" onclick=\"convertToInteractive('df-14a5be15-00c8-4e7c-b183-a8c88ed6ef60')\"\n",
              "              title=\"Convert this dataframe to an interactive table.\"\n",
              "              style=\"display:none;\">\n",
              "        \n",
              "  <svg xmlns=\"http://www.w3.org/2000/svg\" height=\"24px\"viewBox=\"0 0 24 24\"\n",
              "       width=\"24px\">\n",
              "    <path d=\"M0 0h24v24H0V0z\" fill=\"none\"/>\n",
              "    <path d=\"M18.56 5.44l.94 2.06.94-2.06 2.06-.94-2.06-.94-.94-2.06-.94 2.06-2.06.94zm-11 1L8.5 8.5l.94-2.06 2.06-.94-2.06-.94L8.5 2.5l-.94 2.06-2.06.94zm10 10l.94 2.06.94-2.06 2.06-.94-2.06-.94-.94-2.06-.94 2.06-2.06.94z\"/><path d=\"M17.41 7.96l-1.37-1.37c-.4-.4-.92-.59-1.43-.59-.52 0-1.04.2-1.43.59L10.3 9.45l-7.72 7.72c-.78.78-.78 2.05 0 2.83L4 21.41c.39.39.9.59 1.41.59.51 0 1.02-.2 1.41-.59l7.78-7.78 2.81-2.81c.8-.78.8-2.07 0-2.86zM5.41 20L4 18.59l7.72-7.72 1.47 1.35L5.41 20z\"/>\n",
              "  </svg>\n",
              "      </button>\n",
              "      \n",
              "  <style>\n",
              "    .colab-df-container {\n",
              "      display:flex;\n",
              "      flex-wrap:wrap;\n",
              "      gap: 12px;\n",
              "    }\n",
              "\n",
              "    .colab-df-convert {\n",
              "      background-color: #E8F0FE;\n",
              "      border: none;\n",
              "      border-radius: 50%;\n",
              "      cursor: pointer;\n",
              "      display: none;\n",
              "      fill: #1967D2;\n",
              "      height: 32px;\n",
              "      padding: 0 0 0 0;\n",
              "      width: 32px;\n",
              "    }\n",
              "\n",
              "    .colab-df-convert:hover {\n",
              "      background-color: #E2EBFA;\n",
              "      box-shadow: 0px 1px 2px rgba(60, 64, 67, 0.3), 0px 1px 3px 1px rgba(60, 64, 67, 0.15);\n",
              "      fill: #174EA6;\n",
              "    }\n",
              "\n",
              "    [theme=dark] .colab-df-convert {\n",
              "      background-color: #3B4455;\n",
              "      fill: #D2E3FC;\n",
              "    }\n",
              "\n",
              "    [theme=dark] .colab-df-convert:hover {\n",
              "      background-color: #434B5C;\n",
              "      box-shadow: 0px 1px 3px 1px rgba(0, 0, 0, 0.15);\n",
              "      filter: drop-shadow(0px 1px 2px rgba(0, 0, 0, 0.3));\n",
              "      fill: #FFFFFF;\n",
              "    }\n",
              "  </style>\n",
              "\n",
              "      <script>\n",
              "        const buttonEl =\n",
              "          document.querySelector('#df-14a5be15-00c8-4e7c-b183-a8c88ed6ef60 button.colab-df-convert');\n",
              "        buttonEl.style.display =\n",
              "          google.colab.kernel.accessAllowed ? 'block' : 'none';\n",
              "\n",
              "        async function convertToInteractive(key) {\n",
              "          const element = document.querySelector('#df-14a5be15-00c8-4e7c-b183-a8c88ed6ef60');\n",
              "          const dataTable =\n",
              "            await google.colab.kernel.invokeFunction('convertToInteractive',\n",
              "                                                     [key], {});\n",
              "          if (!dataTable) return;\n",
              "\n",
              "          const docLinkHtml = 'Like what you see? Visit the ' +\n",
              "            '<a target=\"_blank\" href=https://colab.research.google.com/notebooks/data_table.ipynb>data table notebook</a>'\n",
              "            + ' to learn more about interactive tables.';\n",
              "          element.innerHTML = '';\n",
              "          dataTable['output_type'] = 'display_data';\n",
              "          await google.colab.output.renderOutput(dataTable, element);\n",
              "          const docLink = document.createElement('div');\n",
              "          docLink.innerHTML = docLinkHtml;\n",
              "          element.appendChild(docLink);\n",
              "        }\n",
              "      </script>\n",
              "    </div>\n",
              "  </div>\n",
              "  "
            ]
          },
          "metadata": {},
          "execution_count": 15
        }
      ]
    },
    {
      "cell_type": "code",
      "source": [
        "val_labels = val_dataset.iloc[:,-1]\n",
        "val_labels"
      ],
      "metadata": {
        "colab": {
          "base_uri": "https://localhost:8080/"
        },
        "id": "SREmAloxIhm3",
        "outputId": "3834e76c-8558-4726-fb00-a15aa36f3f8f"
      },
      "execution_count": 16,
      "outputs": [
        {
          "output_type": "execute_result",
          "data": {
            "text/plain": [
              "0      0\n",
              "1      1\n",
              "2      1\n",
              "3      0\n",
              "4      1\n",
              "      ..\n",
              "309    0\n",
              "310    1\n",
              "311    1\n",
              "312    0\n",
              "313    1\n",
              "Name: Cured, Length: 314, dtype: int64"
            ]
          },
          "metadata": {},
          "execution_count": 16
        }
      ]
    },
    {
      "cell_type": "code",
      "source": [
        "test_inputs = test_dataset.iloc[:,:-1]\n",
        "test_inputs"
      ],
      "metadata": {
        "colab": {
          "base_uri": "https://localhost:8080/",
          "height": 485
        },
        "id": "Q32C4IVbIw3U",
        "outputId": "26ff8705-04ac-40aa-d770-ef604bcb0e4a"
      },
      "execution_count": 17,
      "outputs": [
        {
          "output_type": "execute_result",
          "data": {
            "text/plain": [
              "     Phoenix Feather  Unicorn Horn  Dragon's Blood  Mermaid Tears  Fairy Dust  \\\n",
              "0               10.0          15.3            27.1           13.3        18.1   \n",
              "1               31.6           1.9            25.2           17.9        16.4   \n",
              "2               22.4           9.2            23.7           14.9        18.2   \n",
              "3               24.5           2.3             2.2           26.2         7.3   \n",
              "4                3.2          20.2            12.9           13.3         7.7   \n",
              "..               ...           ...             ...            ...         ...   \n",
              "767             13.7           2.7            15.4            5.1        11.9   \n",
              "768             24.3           5.6            19.4           10.0        15.3   \n",
              "769              5.7           2.1            22.3           26.0        23.9   \n",
              "770              6.8          16.1            17.5           20.9         2.3   \n",
              "771             12.7          12.6            24.5           19.7        24.0   \n",
              "\n",
              "     Goblin Toes  Witch's Brew  Griffin Claw  Troll Hair  Kraken Ink  \\\n",
              "0           12.3           4.8          24.0        10.0        17.5   \n",
              "1            2.4           4.2           6.4        32.5        21.9   \n",
              "2           10.5           6.8          15.3        21.0        16.8   \n",
              "3            2.8          20.6           7.8        23.0        17.0   \n",
              "4           29.6           2.6          12.9        12.7        13.8   \n",
              "..           ...           ...           ...         ...         ...   \n",
              "767          4.2           4.4           5.1        15.2        13.2   \n",
              "768         23.8           4.4          13.7        31.7        13.2   \n",
              "769         20.9          29.6          13.4        10.9        21.9   \n",
              "770         10.6          20.3          15.3        21.9        18.8   \n",
              "771          2.7           6.4          21.7        16.2        27.5   \n",
              "\n",
              "     Minotaur Horn  Basilisk Scale  Chimera Fang  \n",
              "0              5.9            27.6           8.6  \n",
              "1             19.7            12.4          17.4  \n",
              "2             31.6            19.4          11.6  \n",
              "3              2.7             7.6          26.0  \n",
              "4              8.9             6.5           9.1  \n",
              "..             ...             ...           ...  \n",
              "767            3.5             9.4          19.3  \n",
              "768           15.2            11.5           4.9  \n",
              "769            4.7            21.9          11.1  \n",
              "770            3.5            17.6          17.4  \n",
              "771           10.6            14.7           4.0  \n",
              "\n",
              "[772 rows x 13 columns]"
            ],
            "text/html": [
              "\n",
              "  <div id=\"df-37ee48b4-b59c-43eb-8484-0f3af9163bd3\">\n",
              "    <div class=\"colab-df-container\">\n",
              "      <div>\n",
              "<style scoped>\n",
              "    .dataframe tbody tr th:only-of-type {\n",
              "        vertical-align: middle;\n",
              "    }\n",
              "\n",
              "    .dataframe tbody tr th {\n",
              "        vertical-align: top;\n",
              "    }\n",
              "\n",
              "    .dataframe thead th {\n",
              "        text-align: right;\n",
              "    }\n",
              "</style>\n",
              "<table border=\"1\" class=\"dataframe\">\n",
              "  <thead>\n",
              "    <tr style=\"text-align: right;\">\n",
              "      <th></th>\n",
              "      <th>Phoenix Feather</th>\n",
              "      <th>Unicorn Horn</th>\n",
              "      <th>Dragon's Blood</th>\n",
              "      <th>Mermaid Tears</th>\n",
              "      <th>Fairy Dust</th>\n",
              "      <th>Goblin Toes</th>\n",
              "      <th>Witch's Brew</th>\n",
              "      <th>Griffin Claw</th>\n",
              "      <th>Troll Hair</th>\n",
              "      <th>Kraken Ink</th>\n",
              "      <th>Minotaur Horn</th>\n",
              "      <th>Basilisk Scale</th>\n",
              "      <th>Chimera Fang</th>\n",
              "    </tr>\n",
              "  </thead>\n",
              "  <tbody>\n",
              "    <tr>\n",
              "      <th>0</th>\n",
              "      <td>10.0</td>\n",
              "      <td>15.3</td>\n",
              "      <td>27.1</td>\n",
              "      <td>13.3</td>\n",
              "      <td>18.1</td>\n",
              "      <td>12.3</td>\n",
              "      <td>4.8</td>\n",
              "      <td>24.0</td>\n",
              "      <td>10.0</td>\n",
              "      <td>17.5</td>\n",
              "      <td>5.9</td>\n",
              "      <td>27.6</td>\n",
              "      <td>8.6</td>\n",
              "    </tr>\n",
              "    <tr>\n",
              "      <th>1</th>\n",
              "      <td>31.6</td>\n",
              "      <td>1.9</td>\n",
              "      <td>25.2</td>\n",
              "      <td>17.9</td>\n",
              "      <td>16.4</td>\n",
              "      <td>2.4</td>\n",
              "      <td>4.2</td>\n",
              "      <td>6.4</td>\n",
              "      <td>32.5</td>\n",
              "      <td>21.9</td>\n",
              "      <td>19.7</td>\n",
              "      <td>12.4</td>\n",
              "      <td>17.4</td>\n",
              "    </tr>\n",
              "    <tr>\n",
              "      <th>2</th>\n",
              "      <td>22.4</td>\n",
              "      <td>9.2</td>\n",
              "      <td>23.7</td>\n",
              "      <td>14.9</td>\n",
              "      <td>18.2</td>\n",
              "      <td>10.5</td>\n",
              "      <td>6.8</td>\n",
              "      <td>15.3</td>\n",
              "      <td>21.0</td>\n",
              "      <td>16.8</td>\n",
              "      <td>31.6</td>\n",
              "      <td>19.4</td>\n",
              "      <td>11.6</td>\n",
              "    </tr>\n",
              "    <tr>\n",
              "      <th>3</th>\n",
              "      <td>24.5</td>\n",
              "      <td>2.3</td>\n",
              "      <td>2.2</td>\n",
              "      <td>26.2</td>\n",
              "      <td>7.3</td>\n",
              "      <td>2.8</td>\n",
              "      <td>20.6</td>\n",
              "      <td>7.8</td>\n",
              "      <td>23.0</td>\n",
              "      <td>17.0</td>\n",
              "      <td>2.7</td>\n",
              "      <td>7.6</td>\n",
              "      <td>26.0</td>\n",
              "    </tr>\n",
              "    <tr>\n",
              "      <th>4</th>\n",
              "      <td>3.2</td>\n",
              "      <td>20.2</td>\n",
              "      <td>12.9</td>\n",
              "      <td>13.3</td>\n",
              "      <td>7.7</td>\n",
              "      <td>29.6</td>\n",
              "      <td>2.6</td>\n",
              "      <td>12.9</td>\n",
              "      <td>12.7</td>\n",
              "      <td>13.8</td>\n",
              "      <td>8.9</td>\n",
              "      <td>6.5</td>\n",
              "      <td>9.1</td>\n",
              "    </tr>\n",
              "    <tr>\n",
              "      <th>...</th>\n",
              "      <td>...</td>\n",
              "      <td>...</td>\n",
              "      <td>...</td>\n",
              "      <td>...</td>\n",
              "      <td>...</td>\n",
              "      <td>...</td>\n",
              "      <td>...</td>\n",
              "      <td>...</td>\n",
              "      <td>...</td>\n",
              "      <td>...</td>\n",
              "      <td>...</td>\n",
              "      <td>...</td>\n",
              "      <td>...</td>\n",
              "    </tr>\n",
              "    <tr>\n",
              "      <th>767</th>\n",
              "      <td>13.7</td>\n",
              "      <td>2.7</td>\n",
              "      <td>15.4</td>\n",
              "      <td>5.1</td>\n",
              "      <td>11.9</td>\n",
              "      <td>4.2</td>\n",
              "      <td>4.4</td>\n",
              "      <td>5.1</td>\n",
              "      <td>15.2</td>\n",
              "      <td>13.2</td>\n",
              "      <td>3.5</td>\n",
              "      <td>9.4</td>\n",
              "      <td>19.3</td>\n",
              "    </tr>\n",
              "    <tr>\n",
              "      <th>768</th>\n",
              "      <td>24.3</td>\n",
              "      <td>5.6</td>\n",
              "      <td>19.4</td>\n",
              "      <td>10.0</td>\n",
              "      <td>15.3</td>\n",
              "      <td>23.8</td>\n",
              "      <td>4.4</td>\n",
              "      <td>13.7</td>\n",
              "      <td>31.7</td>\n",
              "      <td>13.2</td>\n",
              "      <td>15.2</td>\n",
              "      <td>11.5</td>\n",
              "      <td>4.9</td>\n",
              "    </tr>\n",
              "    <tr>\n",
              "      <th>769</th>\n",
              "      <td>5.7</td>\n",
              "      <td>2.1</td>\n",
              "      <td>22.3</td>\n",
              "      <td>26.0</td>\n",
              "      <td>23.9</td>\n",
              "      <td>20.9</td>\n",
              "      <td>29.6</td>\n",
              "      <td>13.4</td>\n",
              "      <td>10.9</td>\n",
              "      <td>21.9</td>\n",
              "      <td>4.7</td>\n",
              "      <td>21.9</td>\n",
              "      <td>11.1</td>\n",
              "    </tr>\n",
              "    <tr>\n",
              "      <th>770</th>\n",
              "      <td>6.8</td>\n",
              "      <td>16.1</td>\n",
              "      <td>17.5</td>\n",
              "      <td>20.9</td>\n",
              "      <td>2.3</td>\n",
              "      <td>10.6</td>\n",
              "      <td>20.3</td>\n",
              "      <td>15.3</td>\n",
              "      <td>21.9</td>\n",
              "      <td>18.8</td>\n",
              "      <td>3.5</td>\n",
              "      <td>17.6</td>\n",
              "      <td>17.4</td>\n",
              "    </tr>\n",
              "    <tr>\n",
              "      <th>771</th>\n",
              "      <td>12.7</td>\n",
              "      <td>12.6</td>\n",
              "      <td>24.5</td>\n",
              "      <td>19.7</td>\n",
              "      <td>24.0</td>\n",
              "      <td>2.7</td>\n",
              "      <td>6.4</td>\n",
              "      <td>21.7</td>\n",
              "      <td>16.2</td>\n",
              "      <td>27.5</td>\n",
              "      <td>10.6</td>\n",
              "      <td>14.7</td>\n",
              "      <td>4.0</td>\n",
              "    </tr>\n",
              "  </tbody>\n",
              "</table>\n",
              "<p>772 rows × 13 columns</p>\n",
              "</div>\n",
              "      <button class=\"colab-df-convert\" onclick=\"convertToInteractive('df-37ee48b4-b59c-43eb-8484-0f3af9163bd3')\"\n",
              "              title=\"Convert this dataframe to an interactive table.\"\n",
              "              style=\"display:none;\">\n",
              "        \n",
              "  <svg xmlns=\"http://www.w3.org/2000/svg\" height=\"24px\"viewBox=\"0 0 24 24\"\n",
              "       width=\"24px\">\n",
              "    <path d=\"M0 0h24v24H0V0z\" fill=\"none\"/>\n",
              "    <path d=\"M18.56 5.44l.94 2.06.94-2.06 2.06-.94-2.06-.94-.94-2.06-.94 2.06-2.06.94zm-11 1L8.5 8.5l.94-2.06 2.06-.94-2.06-.94L8.5 2.5l-.94 2.06-2.06.94zm10 10l.94 2.06.94-2.06 2.06-.94-2.06-.94-.94-2.06-.94 2.06-2.06.94z\"/><path d=\"M17.41 7.96l-1.37-1.37c-.4-.4-.92-.59-1.43-.59-.52 0-1.04.2-1.43.59L10.3 9.45l-7.72 7.72c-.78.78-.78 2.05 0 2.83L4 21.41c.39.39.9.59 1.41.59.51 0 1.02-.2 1.41-.59l7.78-7.78 2.81-2.81c.8-.78.8-2.07 0-2.86zM5.41 20L4 18.59l7.72-7.72 1.47 1.35L5.41 20z\"/>\n",
              "  </svg>\n",
              "      </button>\n",
              "      \n",
              "  <style>\n",
              "    .colab-df-container {\n",
              "      display:flex;\n",
              "      flex-wrap:wrap;\n",
              "      gap: 12px;\n",
              "    }\n",
              "\n",
              "    .colab-df-convert {\n",
              "      background-color: #E8F0FE;\n",
              "      border: none;\n",
              "      border-radius: 50%;\n",
              "      cursor: pointer;\n",
              "      display: none;\n",
              "      fill: #1967D2;\n",
              "      height: 32px;\n",
              "      padding: 0 0 0 0;\n",
              "      width: 32px;\n",
              "    }\n",
              "\n",
              "    .colab-df-convert:hover {\n",
              "      background-color: #E2EBFA;\n",
              "      box-shadow: 0px 1px 2px rgba(60, 64, 67, 0.3), 0px 1px 3px 1px rgba(60, 64, 67, 0.15);\n",
              "      fill: #174EA6;\n",
              "    }\n",
              "\n",
              "    [theme=dark] .colab-df-convert {\n",
              "      background-color: #3B4455;\n",
              "      fill: #D2E3FC;\n",
              "    }\n",
              "\n",
              "    [theme=dark] .colab-df-convert:hover {\n",
              "      background-color: #434B5C;\n",
              "      box-shadow: 0px 1px 3px 1px rgba(0, 0, 0, 0.15);\n",
              "      filter: drop-shadow(0px 1px 2px rgba(0, 0, 0, 0.3));\n",
              "      fill: #FFFFFF;\n",
              "    }\n",
              "  </style>\n",
              "\n",
              "      <script>\n",
              "        const buttonEl =\n",
              "          document.querySelector('#df-37ee48b4-b59c-43eb-8484-0f3af9163bd3 button.colab-df-convert');\n",
              "        buttonEl.style.display =\n",
              "          google.colab.kernel.accessAllowed ? 'block' : 'none';\n",
              "\n",
              "        async function convertToInteractive(key) {\n",
              "          const element = document.querySelector('#df-37ee48b4-b59c-43eb-8484-0f3af9163bd3');\n",
              "          const dataTable =\n",
              "            await google.colab.kernel.invokeFunction('convertToInteractive',\n",
              "                                                     [key], {});\n",
              "          if (!dataTable) return;\n",
              "\n",
              "          const docLinkHtml = 'Like what you see? Visit the ' +\n",
              "            '<a target=\"_blank\" href=https://colab.research.google.com/notebooks/data_table.ipynb>data table notebook</a>'\n",
              "            + ' to learn more about interactive tables.';\n",
              "          element.innerHTML = '';\n",
              "          dataTable['output_type'] = 'display_data';\n",
              "          await google.colab.output.renderOutput(dataTable, element);\n",
              "          const docLink = document.createElement('div');\n",
              "          docLink.innerHTML = docLinkHtml;\n",
              "          element.appendChild(docLink);\n",
              "        }\n",
              "      </script>\n",
              "    </div>\n",
              "  </div>\n",
              "  "
            ]
          },
          "metadata": {},
          "execution_count": 17
        }
      ]
    },
    {
      "cell_type": "code",
      "source": [
        "test_labels = test_dataset.iloc[:,-1]\n",
        "test_labels"
      ],
      "metadata": {
        "colab": {
          "base_uri": "https://localhost:8080/"
        },
        "id": "rNa7tdgFI5b2",
        "outputId": "79eda804-eb8b-41be-886e-1a828543d5d4"
      },
      "execution_count": 18,
      "outputs": [
        {
          "output_type": "execute_result",
          "data": {
            "text/plain": [
              "0      0\n",
              "1      1\n",
              "2      0\n",
              "3      1\n",
              "4      0\n",
              "      ..\n",
              "767    1\n",
              "768    1\n",
              "769    1\n",
              "770    1\n",
              "771    0\n",
              "Name: Cured, Length: 772, dtype: int64"
            ]
          },
          "metadata": {},
          "execution_count": 18
        }
      ]
    },
    {
      "cell_type": "code",
      "source": [
        "val_inputs = torch.tensor(val_inputs.values, dtype=torch.float32)\n",
        "val_labels = torch.tensor(val_labels.values, dtype=torch.float32)\n",
        "test_inputs = torch.tensor(test_inputs.values, dtype=torch.float32)\n",
        "test_labels = torch.tensor(test_labels.values, dtype=torch.float32)"
      ],
      "metadata": {
        "id": "MWtgUJEuJHUZ"
      },
      "execution_count": 19,
      "outputs": []
    },
    {
      "cell_type": "markdown",
      "source": [
        "Bütün verilerimizi tensör haline getirdik. Özet olarak boyutlarını gözden geçirelim."
      ],
      "metadata": {
        "id": "b14aKQG4Jf3H"
      }
    },
    {
      "cell_type": "code",
      "source": [
        "print(\"TRAIN SETİ\\n*****************\")\n",
        "print(f\"Girdi: {train_inputs.size()}, Etiketler: {train_labels.size()}\\n\")\n",
        "\n",
        "print(\"VALIDATION SETİ\\n****************\")\n",
        "print(f\"Girdi: {val_inputs.size()}, Etiketler: {val_labels.size()}\\n\")\n",
        "\n",
        "print(\"TEST SETİ\\n****************\")\n",
        "print(f\"Girdi: {test_inputs.size()}, Etiketler: {test_labels.size()}\\n\")"
      ],
      "metadata": {
        "colab": {
          "base_uri": "https://localhost:8080/"
        },
        "id": "LzjmzhbiJoKz",
        "outputId": "daa63247-fe6d-4826-f365-98b143f697f3"
      },
      "execution_count": 20,
      "outputs": [
        {
          "output_type": "stream",
          "name": "stdout",
          "text": [
            "TRAIN SETİ\n",
            "*****************\n",
            "Girdi: torch.Size([1252, 13]), Etiketler: torch.Size([1252])\n",
            "\n",
            "VALIDATION SETİ\n",
            "****************\n",
            "Girdi: torch.Size([314, 13]), Etiketler: torch.Size([314])\n",
            "\n",
            "TEST SETİ\n",
            "****************\n",
            "Girdi: torch.Size([772, 13]), Etiketler: torch.Size([772])\n",
            "\n"
          ]
        }
      ]
    },
    {
      "cell_type": "markdown",
      "source": [
        "Verilerimizi tensör haline getirdik. Bunları derste yapılan eğitime benzemesi için DataLoader() formatına verilecek şekilde düzenlememiz lazım. \n",
        "\n",
        "Kendi trainset değişkenimizi aşağıda oluşturalım."
      ],
      "metadata": {
        "id": "MSGaXVa6t-Qw"
      }
    },
    {
      "cell_type": "code",
      "source": [
        "from torch.utils.data import TensorDataset, DataLoader"
      ],
      "metadata": {
        "id": "JpFQ9yY0p5tQ"
      },
      "execution_count": 21,
      "outputs": []
    },
    {
      "cell_type": "code",
      "source": [
        "BATCH_SIZE=16"
      ],
      "metadata": {
        "id": "kLaX5g4reko5"
      },
      "execution_count": 22,
      "outputs": []
    },
    {
      "cell_type": "code",
      "source": [
        "trainset = TensorDataset(train_inputs, train_labels)\n",
        "\n",
        "trainloader = DataLoader(trainset, batch_size=BATCH_SIZE, shuffle=True)"
      ],
      "metadata": {
        "id": "lxz0KO2bvD0f"
      },
      "execution_count": 23,
      "outputs": []
    },
    {
      "cell_type": "code",
      "source": [
        "valset = TensorDataset(val_inputs, val_labels)\n",
        "\n",
        "valloader = DataLoader(valset, batch_size=BATCH_SIZE, shuffle=True)"
      ],
      "metadata": {
        "id": "ZO_5hhKpxQZD"
      },
      "execution_count": 24,
      "outputs": []
    },
    {
      "cell_type": "code",
      "source": [
        "testset = TensorDataset(test_inputs, test_labels)\n",
        "\n",
        "testloader = DataLoader(testset, shuffle=True)"
      ],
      "metadata": {
        "id": "Bq70zaeGeRea"
      },
      "execution_count": 25,
      "outputs": []
    },
    {
      "cell_type": "markdown",
      "source": [
        "DataLoader() ile veri setlerimizi hazırlıyoruz."
      ],
      "metadata": {
        "id": "pdW9KAHRe8GP"
      }
    },
    {
      "cell_type": "code",
      "source": [
        "trainloader = torch.utils.data.DataLoader(trainset, batch_size=BATCH_SIZE,shuffle=True, num_workers=2)\n",
        "\n",
        "valloader = torch.utils.data.DataLoader(valset, batch_size=BATCH_SIZE, shuffle=True, num_workers=2)\n",
        "\n",
        "testloader = torch.utils.data.DataLoader(testset, batch_size=BATCH_SIZE, shuffle=True, num_workers=2)"
      ],
      "metadata": {
        "id": "OLA7WW8heY_M"
      },
      "execution_count": 26,
      "outputs": []
    },
    {
      "cell_type": "markdown",
      "source": [
        "Eğitimde kullanacağımız yapay sinir ağını oluşturalım."
      ],
      "metadata": {
        "id": "WHfhhAjxfARB"
      }
    },
    {
      "cell_type": "code",
      "source": [
        "class Net(nn.Module):\n",
        "    def __init__(self):\n",
        "        super(Net, self).__init__()\n",
        "        self.fc1 = nn.Linear( 13, 100 ) \n",
        "        self.fc2 = nn.Linear( 100, 50 )\n",
        "        self.fc3 = nn.Linear( 50, 1 ) \n",
        "\n",
        "        self.relu = nn.ReLU()\n",
        "        self.sigmoid = nn.Sigmoid()\n",
        "\n",
        "        self.dropout1 = nn.Dropout(p=0.4) #REGULARIZATION\n",
        "        self.dropout2 = nn.Dropout(p=0.2) #REGULARIZATION\n",
        "\n",
        "    def forward(self, x):\n",
        "        x = self.fc1(x)\n",
        "        x = self.relu(x)\n",
        "        x = self.dropout1(x) #REGULARIZATION\n",
        "\n",
        "        x = self.fc2(x)\n",
        "        x = self.relu(x)\n",
        "        x = self.dropout2(x) #REGULARIZATION\n",
        "\n",
        "        x = self.fc3(x)\n",
        "        x = self.sigmoid(x)\n",
        "        return x\n",
        "\n",
        "model = Net()"
      ],
      "metadata": {
        "id": "ws6Unceijr7z"
      },
      "execution_count": 27,
      "outputs": []
    },
    {
      "cell_type": "code",
      "source": [
        "LEARNING_RATE=0.001\n",
        "EPOCHS=100\n",
        "\n",
        "criterion = nn.BCELoss()\n",
        "optimizer = torch.optim.SGD(model.parameters(), lr=LEARNING_RATE, weight_decay=0.001) #REGULARIZATION\n",
        "\n",
        "train_losses = []\n",
        "val_losses = []\n",
        "\n",
        "model = model.to(device)\n",
        "for epoch in range(EPOCHS):\n",
        "\n",
        "  train_loss = 0.0\n",
        "  val_loss = 0.0\n",
        "  train_count = 0.0\n",
        "  val_count = 0.0\n",
        "  \n",
        "  model.train()\n",
        "  for inputs, labels in trainloader:\n",
        "      #training loop\n",
        "      inputs = inputs.to(device)\n",
        "      labels = labels.to(device)\n",
        "\n",
        "      optimizer.zero_grad()\n",
        "\n",
        "      outputs = model(inputs)\n",
        "      labels = labels.unsqueeze(1)\n",
        "      loss = criterion(outputs, labels)\n",
        "      loss.backward()\n",
        "      optimizer.step()\n",
        "\n",
        "      train_count += 1.0\n",
        "      train_loss += loss.item()\n",
        "    \n",
        "\n",
        "  model.eval()\n",
        "  with torch.no_grad():\n",
        "    for inputs, targets in valloader:\n",
        "      #validation loop\n",
        "      inputs = inputs.to(device)\n",
        "      targets = targets.to(device)\n",
        "      \n",
        "      outputs = model(inputs)\n",
        "      targets = targets.unsqueeze(1)\n",
        "      loss = criterion(outputs, targets)\n",
        "\n",
        "      val_count += 1.0\n",
        "      val_loss += loss.item()\n",
        "\n",
        "    # epoch kayiplarini ekrana yazdir\n",
        "  train_loss /= train_count\n",
        "  val_loss /= val_count\n",
        "  print(f\"Epoch {epoch+1} train loss: {train_loss}, validation loss: {val_loss}\")\n",
        "\n",
        "  train_losses.append(train_loss)\n",
        "  val_losses.append(val_loss)\n",
        "\n",
        "torch.save(model.state_dict(), \"checkpoint.pt\")\n",
        "plt.plot(train_losses, label='Training Loss')\n",
        "plt.plot(val_losses, label='Validation Loss')\n",
        "plt.xlabel('Epoch')\n",
        "plt.ylabel('Loss')\n",
        "plt.legend()\n",
        "plt.show()\n",
        "        \n",
        "\n",
        "print('Finished Training')"
      ],
      "metadata": {
        "colab": {
          "base_uri": "https://localhost:8080/",
          "height": 1000
        },
        "id": "0h2U5O_AoGqR",
        "outputId": "79ca3b88-86bf-4ae8-cc67-6ee9eb15d71f"
      },
      "execution_count": 30,
      "outputs": [
        {
          "output_type": "stream",
          "name": "stdout",
          "text": [
            "Epoch 1 train loss: 0.8212771762775469, validation loss: 0.5741097077727317\n",
            "Epoch 2 train loss: 0.7134489115280441, validation loss: 0.5420145139098167\n",
            "Epoch 3 train loss: 0.6801969012882136, validation loss: 0.5377326846122742\n",
            "Epoch 4 train loss: 0.6524533618100082, validation loss: 0.5130549430847168\n",
            "Epoch 5 train loss: 0.6353205717817137, validation loss: 0.502523772418499\n",
            "Epoch 6 train loss: 0.6275878959818731, validation loss: 0.48885503262281416\n",
            "Epoch 7 train loss: 0.6190683800208417, validation loss: 0.48226171284914016\n",
            "Epoch 8 train loss: 0.6032298580755161, validation loss: 0.4778403237462044\n",
            "Epoch 9 train loss: 0.5965025375915479, validation loss: 0.4643327072262764\n",
            "Epoch 10 train loss: 0.5901876488063909, validation loss: 0.45986898988485336\n",
            "Epoch 11 train loss: 0.5932119507578355, validation loss: 0.4552061393857002\n",
            "Epoch 12 train loss: 0.5855821133414402, validation loss: 0.44813635796308515\n",
            "Epoch 13 train loss: 0.563520724637599, validation loss: 0.43942380547523496\n",
            "Epoch 14 train loss: 0.5685989219176618, validation loss: 0.4362698495388031\n",
            "Epoch 15 train loss: 0.5287152166608013, validation loss: 0.42252516448497773\n",
            "Epoch 16 train loss: 0.5514279437970512, validation loss: 0.4247502535581589\n",
            "Epoch 17 train loss: 0.5342740559879737, validation loss: 0.4117726221680641\n",
            "Epoch 18 train loss: 0.5588665853572797, validation loss: 0.41028065979480743\n",
            "Epoch 19 train loss: 0.5187463877321798, validation loss: 0.4019238352775574\n",
            "Epoch 20 train loss: 0.5343120313143428, validation loss: 0.4031089320778847\n",
            "Epoch 21 train loss: 0.5231795658039141, validation loss: 0.3971224404871464\n",
            "Epoch 22 train loss: 0.5244166956672186, validation loss: 0.3910176530480385\n",
            "Epoch 23 train loss: 0.4972641781161103, validation loss: 0.38579624742269514\n",
            "Epoch 24 train loss: 0.5217687425356877, validation loss: 0.38385424092411996\n",
            "Epoch 25 train loss: 0.4926006688347346, validation loss: 0.37857018038630486\n",
            "Epoch 26 train loss: 0.498977552863616, validation loss: 0.3700427770614624\n",
            "Epoch 27 train loss: 0.51234634786467, validation loss: 0.3698831617832184\n",
            "Epoch 28 train loss: 0.4978589215610601, validation loss: 0.3703364014625549\n",
            "Epoch 29 train loss: 0.5041525273383418, validation loss: 0.3638350710272789\n",
            "Epoch 30 train loss: 0.4748508185148239, validation loss: 0.3541351430118084\n",
            "Epoch 31 train loss: 0.4839638399926922, validation loss: 0.3523238845169544\n",
            "Epoch 32 train loss: 0.4780819906464106, validation loss: 0.3474981002509594\n",
            "Epoch 33 train loss: 0.48045730251300184, validation loss: 0.34407682046294213\n",
            "Epoch 34 train loss: 0.4666325412219084, validation loss: 0.3389498062431812\n",
            "Epoch 35 train loss: 0.481022988316379, validation loss: 0.3372236780822277\n",
            "Epoch 36 train loss: 0.46371911145463773, validation loss: 0.33070055320858954\n",
            "Epoch 37 train loss: 0.4728131277274482, validation loss: 0.3291389435529709\n",
            "Epoch 38 train loss: 0.4423680650659754, validation loss: 0.3251075528562069\n",
            "Epoch 39 train loss: 0.4696696815611441, validation loss: 0.3197936162352562\n",
            "Epoch 40 train loss: 0.4531797404530682, validation loss: 0.3173756279051304\n",
            "Epoch 41 train loss: 0.45091981374764745, validation loss: 0.3271296925842762\n",
            "Epoch 42 train loss: 0.4614522064788432, validation loss: 0.3161619812250137\n",
            "Epoch 43 train loss: 0.42727933861786804, validation loss: 0.30784198492765424\n",
            "Epoch 44 train loss: 0.4564623664828795, validation loss: 0.3035607896745205\n",
            "Epoch 45 train loss: 0.4477685552231873, validation loss: 0.30233446806669234\n",
            "Epoch 46 train loss: 0.42713254558134683, validation loss: 0.30105639472603796\n",
            "Epoch 47 train loss: 0.4421798349181308, validation loss: 0.2950738601386547\n",
            "Epoch 48 train loss: 0.4207831391050846, validation loss: 0.30406810343265533\n",
            "Epoch 49 train loss: 0.4132841533120674, validation loss: 0.29372981786727903\n",
            "Epoch 50 train loss: 0.4274506610405596, validation loss: 0.28803501799702647\n",
            "Epoch 51 train loss: 0.4133875834036477, validation loss: 0.288924477994442\n",
            "Epoch 52 train loss: 0.41591131366506406, validation loss: 0.2858079239726067\n",
            "Epoch 53 train loss: 0.42883125268205813, validation loss: 0.28339483216404915\n",
            "Epoch 54 train loss: 0.4291880760766283, validation loss: 0.2837072692811489\n",
            "Epoch 55 train loss: 0.43595487869615795, validation loss: 0.28467761501669886\n",
            "Epoch 56 train loss: 0.38539533713195895, validation loss: 0.27272005155682566\n",
            "Epoch 57 train loss: 0.3914823799948149, validation loss: 0.2737052921205759\n",
            "Epoch 58 train loss: 0.4202738617417179, validation loss: 0.2745312601327896\n",
            "Epoch 59 train loss: 0.3948515136785145, validation loss: 0.27791631072759626\n",
            "Epoch 60 train loss: 0.38247896787486496, validation loss: 0.2643925599753857\n",
            "Epoch 61 train loss: 0.40768096445104746, validation loss: 0.26535543203353884\n",
            "Epoch 62 train loss: 0.39165043953476075, validation loss: 0.2634986758232117\n",
            "Epoch 63 train loss: 0.4091951961900237, validation loss: 0.2605092626065016\n",
            "Epoch 64 train loss: 0.3928381227239778, validation loss: 0.2561772748827934\n",
            "Epoch 65 train loss: 0.3837591009803965, validation loss: 0.2508186690509319\n",
            "Epoch 66 train loss: 0.38814315237576447, validation loss: 0.25085040740668774\n",
            "Epoch 67 train loss: 0.36056004106243955, validation loss: 0.2487742118537426\n",
            "Epoch 68 train loss: 0.3978444092635867, validation loss: 0.253590227663517\n",
            "Epoch 69 train loss: 0.3770758437959454, validation loss: 0.2515813589096069\n",
            "Epoch 70 train loss: 0.4002629693927644, validation loss: 0.24746400713920594\n",
            "Epoch 71 train loss: 0.38234489345097844, validation loss: 0.24910992681980132\n",
            "Epoch 72 train loss: 0.3811541020492964, validation loss: 0.24621000662446021\n",
            "Epoch 73 train loss: 0.38203497174419937, validation loss: 0.24727390184998513\n",
            "Epoch 74 train loss: 0.37156523179404344, validation loss: 0.24151078537106513\n",
            "Epoch 75 train loss: 0.356257826089859, validation loss: 0.24030265994369984\n",
            "Epoch 76 train loss: 0.3648022537744498, validation loss: 0.24418567344546319\n",
            "Epoch 77 train loss: 0.3739289575362507, validation loss: 0.24015507139265538\n",
            "Epoch 78 train loss: 0.3631105496536327, validation loss: 0.243957794085145\n",
            "Epoch 79 train loss: 0.358315589495852, validation loss: 0.23737049773335456\n",
            "Epoch 80 train loss: 0.3677878613713421, validation loss: 0.23714955635368823\n",
            "Epoch 81 train loss: 0.3564198464155197, validation loss: 0.23197407871484757\n",
            "Epoch 82 train loss: 0.34769442073906526, validation loss: 0.23064333871006965\n",
            "Epoch 83 train loss: 0.3511816211327722, validation loss: 0.2318013899028301\n",
            "Epoch 84 train loss: 0.33615522614762755, validation loss: 0.23353035375475883\n",
            "Epoch 85 train loss: 0.336660739175881, validation loss: 0.2280035849660635\n",
            "Epoch 86 train loss: 0.33876222192863875, validation loss: 0.22825495079159736\n",
            "Epoch 87 train loss: 0.35285582723496833, validation loss: 0.22270289137959481\n",
            "Epoch 88 train loss: 0.3510309520967399, validation loss: 0.22696090564131738\n",
            "Epoch 89 train loss: 0.34410869358461116, validation loss: 0.22640578486025334\n",
            "Epoch 90 train loss: 0.33360745540902587, validation loss: 0.22203886806964873\n",
            "Epoch 91 train loss: 0.3329574133776411, validation loss: 0.22597505673766136\n",
            "Epoch 92 train loss: 0.3467212584388407, validation loss: 0.23035387359559537\n",
            "Epoch 93 train loss: 0.35054475380272804, validation loss: 0.2220345824956894\n",
            "Epoch 94 train loss: 0.3300726726839814, validation loss: 0.22164426781237126\n",
            "Epoch 95 train loss: 0.34069466779503643, validation loss: 0.21996314860880375\n",
            "Epoch 96 train loss: 0.32810123170478434, validation loss: 0.2172073796391487\n",
            "Epoch 97 train loss: 0.34959833399404455, validation loss: 0.21832373291254042\n",
            "Epoch 98 train loss: 0.32975480007597163, validation loss: 0.22353406958281993\n",
            "Epoch 99 train loss: 0.31814430503151087, validation loss: 0.21755828261375426\n",
            "Epoch 100 train loss: 0.31776276457158825, validation loss: 0.20963032431900502\n"
          ]
        },
        {
          "output_type": "display_data",
          "data": {
            "text/plain": [
              "<Figure size 640x480 with 1 Axes>"
            ],
            "image/png": "[encoded data removed]"
          },
          "metadata": {}
        },
        {
          "output_type": "stream",
          "name": "stdout",
          "text": [
            "Finished Training\n"
          ]
        }
      ]
    },
    {
      "cell_type": "code",
      "source": [
        "from sklearn.metrics import accuracy_score, f1_score, precision_score, recall_score\n",
        "\n",
        "best_model = Net()\n",
        "best_model = best_model.to(device)\n",
        "checkpoint = torch.load('/content/checkpoint.pt')\n",
        "best_model.load_state_dict(checkpoint)\n",
        "\n",
        "predictions = []\n",
        "ground_truths = []\n",
        "\n",
        "with torch.no_grad():\n",
        "  for inputs,label in testloader:\n",
        "\n",
        "      output = best_model(inputs)\n",
        "\n",
        "      for i in output:\n",
        "        if(i < 0.5):\n",
        "          predictions.append(0)\n",
        "        else:\n",
        "          predictions.append(1)\n",
        "      \n",
        "      for i in label:\n",
        "        ground_truths.append(int(i))\n",
        "      \n",
        "f1_score = f1_score(ground_truths,predictions)\n",
        "accuracy = accuracy_score(ground_truths,predictions)\n",
        "precision = precision_score(ground_truths,predictions)\n",
        "recall = recall_score(ground_truths,predictions)\n",
        "\n",
        "print(\"F1-Score: {:.4f}\\nAccuracy: {:.4f}\\nPrecision: {:.4f}\\nRecall: {:.4f}\".format(f1_score,accuracy,precision,recall))"
      ],
      "metadata": {
        "id": "J3FrEq1WJaxF",
        "colab": {
          "base_uri": "https://localhost:8080/"
        },
        "outputId": "b0e67dbf-bed3-49a1-83ca-b35859bd080e"
      },
      "execution_count": 31,
      "outputs": [
        {
          "output_type": "stream",
          "name": "stdout",
          "text": [
            "F1-Score: 0.8655\n",
            "Accuracy: 0.8627\n",
            "Precision: 0.8525\n",
            "Recall: 0.8789\n"
          ]
        }
      ]
    }
  ]
}